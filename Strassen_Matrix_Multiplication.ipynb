{
 "cells": [
  {
   "cell_type": "markdown",
   "metadata": {},
   "source": [
    "## Computational Complexities of Three different Matrix Multiplication Algorithms"
   ]
  },
  {
   "cell_type": "markdown",
   "metadata": {},
   "source": [
    "Matrix multiplication plays a central role in many scientific disciplines. Recall how many matrix multiplications have to be executed each time we travel forward or backward a deep neural network. For that reason, there have been great interests in discovering efficient methods to perform matrix multiplication. In this notebook, let's compare three of them:\n",
    "- naive matrix multiplication algorithm\n",
    "- Straßen matrix multiplication algorithm\n",
    "- numpy built-in matrix multiplication algorithm\n",
    "Although in reality we would only use the last one"
   ]
  },
  {
   "cell_type": "code",
   "execution_count": 9,
   "metadata": {},
   "outputs": [],
   "source": [
    "import numpy as npt"
   ]
  },
  {
   "cell_type": "markdown",
   "metadata": {},
   "source": [
    "### 1. Naive matrix multiplication with 3 for loops\n",
    "This is the method we often learn in our first linear algebra lesson to multiply two matrices. To obtain entry <i,j> of X times Y. Perform an element-wise product of the i-th column of X with the j-th column of Y, then sum them up. "
   ]
  },
  {
   "cell_type": "code",
   "execution_count": 10,
   "metadata": {},
   "outputs": [],
   "source": [
    "def naive_multiplication(X,Y): \n",
    "    \"\"\"\n",
    "    Input: matrices X and Y\n",
    "    Output matrix product of X and Y\n",
    "    \"\"\"\n",
    "    assert X.shape[1] == Y.shape[0], \"The matrices to be multiplied must have compatible sizes!\"\n",
    "    product = np.zeros((X.shape[0],Y.shape[1]))\n",
    "    for i in range(X.shape[0]):\n",
    "        # iterate through rows of X\n",
    "        for j in range(Y.shape[1]):\n",
    "        # iterate through columns of Y\n",
    "           for k in range(Y.shape[0]):\n",
    "                product[i][j] += X[i][k] * Y[k][j]\n",
    "    return product"
   ]
  },
  {
   "cell_type": "markdown",
   "metadata": {},
   "source": [
    "### 2. Straßen matrix multiplication\n",
    "This algorithm is based on the classic divide-and-conquer apporach and has a big-O computational complexity of `O(n^2.81)` compared to `O(n^3)` for the naive matrix multiplication implemented above. This result comes directly from the Master's theorem. <br>\n",
    "<br>\n",
    "To sump up, matrix C, which is the product matrix of A and B, is divided into four corner matrices. Each corrner matrix is calculated indirectly from corner matrices of A and B, then we concatenate the four corner matrices into C. <br>\n",
    "<br>\n",
    "To keep it simple, let's limit our input to two square matrices of the same size `n` and for the full-state Strassen version: `n` is a power of 2 (since we keep diving the matrix into smaller matrices of half the size). In reality there are more complicated versions of this algorithm that works for matrices of any sizes, but the complexity won't change. Since we are only interested in the algorithm complexity, those above assumptions are reasonable."
   ]
  },
  {
   "attachments": {
    "image-2.png": {
     "image/png": "[encoded data removed]"
    }
   },
   "cell_type": "markdown",
   "metadata": {},
   "source": [
    "![image-2.png](attachment:image-2.png)"
   ]
  },
  {
   "cell_type": "code",
   "execution_count": 65,
   "metadata": {},
   "outputs": [],
   "source": [
    "#One-stage Strassen\n",
    "def divide_matrix_into_four(M):\n",
    "    \"\"\"\n",
    "    Input: Square matrix M\n",
    "    Output: M11, M12, M21, M22: four corner marices of M\n",
    "    \"\"\"\n",
    "    assert M.shape[0] == M.shape[1]\n",
    "    i = M.shape[0]//2\n",
    "    M11 = M[:i,:i]\n",
    "    M12 = M[:i,i:]\n",
    "    M21 = M[i:,:i]\n",
    "    M22 = M[i:,i:]\n",
    "    return M11, M12, M21, M22\n",
    "\n",
    "def merge_matrices_into_one(M11, M12, M21, M22):\n",
    "    \"\"\"\n",
    "    Input: M11, M12, M21, M22: four corner marices of M\n",
    "    Output: Square matrix M  \n",
    "    \"\"\"\n",
    "    M1 = np.concatenate((M11,M12), axis=1)\n",
    "    M2 = np.concatenate((M21,M22), axis=1)\n",
    "    M = np.concatenate((M1,M2), axis=0)\n",
    "    return M\n",
    "    \n",
    "def one_stage_strassen(A,B): \n",
    "    \"\"\"\n",
    "    Input: Matrix A and B to be multiplied via one_stage_Strassen\n",
    "    Output: Matrix product C\n",
    "    \"\"\"\n",
    "    A11, A12, A21, A22 = divide_matrix_into_four(A)\n",
    "    B11, B12, B21, B22 = divide_matrix_into_four(B)\n",
    "    P1 = naive_multiplication((A11 + A22), (B11 + B22))\n",
    "    P2 = naive_multiplication((A21 + A22), B11)\n",
    "    P3 = naive_multiplication(A11, (B12 - B22))\n",
    "    P4 = naive_multiplication(A22, (B21 - B11))\n",
    "    P5 = naive_multiplication((A11 + A12), B22)\n",
    "    P6 = naive_multiplication((A21 - A11), (B11 + B12))\n",
    "    P7 = naive_multiplication((A12 - A22), (B21 + B22))\n",
    "    C11 = P1 + P4 - P5 + P7\n",
    "    C12 = P3 + P5\n",
    "    C21 = P2 + P4\n",
    "    C22 = P1 + P3 - P2 + P6   \n",
    "    C = merge_matrices_into_one(C11, C12, C21, C22)\n",
    "    return C"
   ]
  },
  {
   "cell_type": "code",
   "execution_count": 85,
   "metadata": {},
   "outputs": [],
   "source": [
    "#Full-stage Strassen\n",
    "def recursive_strassen(A,B):\n",
    "    \"\"\"\n",
    "    Input: Matrix A and B to be multiplied via full_stage_strassen (recrusive_strassen)\n",
    "    Output: Matrix product C\n",
    "    \"\"\"\n",
    "    if A.shape[0]//2 == 1:\n",
    "        C = np.zeros((2,2))\n",
    "        C[0,0] = A[0,0]*B[0,0] + A[0,1]*B[1,0]\n",
    "        C[0,1] = A[0,0]*B[0,1] + A[0,1]*B[1,1]\n",
    "        C[1,0] = A[1,0]*B[0,0] + A[1,1]*B[1,0]\n",
    "        C[1,1] = A[1,0]*B[0,1] + A[1,1]*B[1,1]\n",
    "        return C\n",
    "    else:\n",
    "        A11, A12, A21, A22 = divide_matrix_into_four(A)\n",
    "        B11, B12, B21, B22 = divide_matrix_into_four(B)\n",
    "        P1 = recrusive_strassen((A11 + A22), (B11 + B22))\n",
    "        P2 = recrusive_strassen((A21 + A22), B11)\n",
    "        P3 = recrusive_strassen(A11, (B12 - B22))\n",
    "        P4 = recrusive_strassen(A22, (B21 - B11))\n",
    "        P5 = recrusive_strassen((A11 + A12), B22)\n",
    "        P6 = recrusive_strassen((A21 - A11), (B11 + B12))\n",
    "        P7 = recrusive_strassen((A12 - A22), (B21 + B22))\n",
    "        C11 = P1 + P4 - P5 + P7\n",
    "        C12 = P3 + P5\n",
    "        C21 = P2 + P4\n",
    "        C22 = P1 + P3 - P2 + P6  \n",
    "        C = merge_matrices_into_one(C11, C12, C21, C22)\n",
    "        return C"
   ]
  },
  {
   "cell_type": "markdown",
   "metadata": {},
   "source": [
    "### 3. Numpy built-in matrix multiplication\n",
    "This is fast because vectorized operations in Numpy are executed by highly optimized C code --> much faster than their standard Python counterparts"
   ]
  },
  {
   "cell_type": "code",
   "execution_count": 87,
   "metadata": {},
   "outputs": [
    {
     "data": {
      "text/plain": [
       "array([[0.88708098, 0.65832922, 0.7175791 , 0.50057046],\n",
       "       [0.99929132, 0.65548279, 0.58334578, 0.85525068],\n",
       "       [0.89664827, 1.10224952, 1.31321353, 0.59993759],\n",
       "       [1.32485598, 0.85969212, 1.20787978, 0.42348458]])"
      ]
     },
     "execution_count": 87,
     "metadata": {},
     "output_type": "execute_result"
    }
   ],
   "source": [
    "#Let's check the accuracy of our implementation. Results across different methods should be similar\n",
    "np.random.seed(12)\n",
    "n = 4\n",
    "matrix_one = np.random.rand(n,n)\n",
    "matrix_two = np.random.rand(n,n)\n",
    "matrix_one @ matrix_two"
   ]
  },
  {
   "cell_type": "code",
   "execution_count": 88,
   "metadata": {},
   "outputs": [
    {
     "data": {
      "text/plain": [
       "array([[0.88708098, 0.65832922, 0.7175791 , 0.50057046],\n",
       "       [0.99929132, 0.65548279, 0.58334578, 0.85525068],\n",
       "       [0.89664827, 1.10224952, 1.31321353, 0.59993759],\n",
       "       [1.32485598, 0.85969212, 1.20787978, 0.42348458]])"
      ]
     },
     "execution_count": 88,
     "metadata": {},
     "output_type": "execute_result"
    }
   ],
   "source": [
    "naive_multiplication(matrix_one,matrix_two)"
   ]
  },
  {
   "cell_type": "code",
   "execution_count": 89,
   "metadata": {},
   "outputs": [
    {
     "data": {
      "text/plain": [
       "array([[0.88708098, 0.65832922, 0.7175791 , 0.50057046],\n",
       "       [0.99929132, 0.65548279, 0.58334578, 0.85525068],\n",
       "       [0.89664827, 1.10224952, 1.31321353, 0.59993759],\n",
       "       [1.32485598, 0.85969212, 1.20787978, 0.42348458]])"
      ]
     },
     "execution_count": 89,
     "metadata": {},
     "output_type": "execute_result"
    }
   ],
   "source": [
    "one_stage_strassen(matrix_one,matrix_two)"
   ]
  },
  {
   "cell_type": "code",
   "execution_count": 86,
   "metadata": {},
   "outputs": [
    {
     "data": {
      "text/plain": [
       "array([[0.88708098, 0.65832922, 0.7175791 , 0.50057046],\n",
       "       [0.99929132, 0.65548279, 0.58334578, 0.85525068],\n",
       "       [0.89664827, 1.10224952, 1.31321353, 0.59993759],\n",
       "       [1.32485598, 0.85969212, 1.20787978, 0.42348458]])"
      ]
     },
     "execution_count": 86,
     "metadata": {},
     "output_type": "execute_result"
    }
   ],
   "source": [
    "recursive_strassen(matrix_one,matrix_two)"
   ]
  },
  {
   "cell_type": "markdown",
   "metadata": {},
   "source": [
    "### Let's compare the above methods in terms of computational time\n",
    "Our expectation is of course NumPy built-in <<< recursive_strassen < one_stage_strassen < naive_multiplication"
   ]
  },
  {
   "cell_type": "code",
   "execution_count": 92,
   "metadata": {},
   "outputs": [
    {
     "name": "stdout",
     "output_type": "stream",
     "text": [
      "NumPy built-in method\n",
      "14.5 µs ± 1.83 µs per loop (mean ± std. dev. of 7 runs, 100000 loops each)\n",
      "***********************\n",
      "Fully recursive Strassen method\n",
      "276 ms ± 57.3 ms per loop (mean ± std. dev. of 7 runs, 1 loop each)\n",
      "***********************\n",
      "One stage Strassen method\n",
      "327 ms ± 6.62 ms per loop (mean ± std. dev. of 7 runs, 1 loop each)\n",
      "***********************\n",
      "Native multiplication method\n",
      "351 ms ± 14.7 ms per loop (mean ± std. dev. of 7 runs, 1 loop each)\n"
     ]
    }
   ],
   "source": [
    "n = 64\n",
    "matrix_one = np.random.rand(n, n)\n",
    "matrix_two = np.random.rand(n, n)\n",
    "\n",
    "print('NumPy built-in method')\n",
    "%timeit np.matmul(matrix_one,matrix_two)\n",
    "print('***********************')\n",
    "print('Fully recursive Strassen method')\n",
    "%timeit recursive_strassen(matrix_one,matrix_two)\n",
    "print('***********************')\n",
    "print('One stage Strassen method')\n",
    "%timeit one_stage_strassen(matrix_one,matrix_two)\n",
    "print('***********************')\n",
    "print('Native multiplication method')\n",
    "%timeit naive_multiplication(matrix_one,matrix_two)"
   ]
  },
  {
   "cell_type": "code",
   "execution_count": null,
   "metadata": {},
   "outputs": [],
   "source": []
  }
 ],
 "metadata": {
  "kernelspec": {
   "display_name": "Python 3",
   "language": "python",
   "name": "python3"
  },
  "language_info": {
   "codemirror_mode": {
    "name": "ipython",
    "version": 3
   },
   "file_extension": ".py",
   "mimetype": "text/x-python",
   "name": "python",
   "nbconvert_exporter": "python",
   "pygments_lexer": "ipython3",
   "version": "3.8.5"
  }
 },
 "nbformat": 4,
 "nbformat_minor": 4
}
